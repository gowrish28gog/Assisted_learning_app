{
 "cells": [
  {
   "cell_type": "code",
   "execution_count": 1,
   "metadata": {},
   "outputs": [
    {
     "name": "stderr",
     "output_type": "stream",
     "text": [
      "/Users/gujar.p/Documents/Data Science Capstone/capstone_env/lib/python3.9/site-packages/urllib3/__init__.py:35: NotOpenSSLWarning: urllib3 v2 only supports OpenSSL 1.1.1+, currently the 'ssl' module is compiled with 'LibreSSL 2.8.3'. See: https://github.com/urllib3/urllib3/issues/3020\n",
      "  warnings.warn(\n",
      "None of PyTorch, TensorFlow >= 2.0, or Flax have been found. Models won't be available and only tokenizers, configuration and file/data utilities can be used.\n",
      "None of PyTorch, TensorFlow >= 2.0, or Flax have been found. Models won't be available and only tokenizers, configuration and file/data utilities can be used.\n"
     ]
    }
   ],
   "source": [
    "import ollama\n",
    "from evaluate import load"
   ]
  },
  {
   "cell_type": "code",
   "execution_count": null,
   "metadata": {},
   "outputs": [
    {
     "data": {
      "text/plain": [
       "['Here are five questions based on the context:',\n",
       " '',\n",
       " '1. What was the score in favor of the Denver Broncos in Super Bowl 50?',\n",
       " 'A) 10-24',\n",
       " 'B) 20-24',\n",
       " 'C) 24-10',\n",
       " 'D) 30-20',\n",
       " '',\n",
       " 'Answer: C) 24-10',\n",
       " '',\n",
       " '2. Which team defeated which team to win their third Super Bowl title in Super Bowl 50?',\n",
       " 'A) Denver Broncos vs. Carolina Panthers',\n",
       " 'B) Carolina Panthers vs. Kansas City Chiefs',\n",
       " 'C) New England Patriots vs. Seattle Seahawks',\n",
       " 'D) Green Bay Packers vs. Chicago Bears',\n",
       " '',\n",
       " 'Answer: A) Denver Broncos vs. Carolina Panthers',\n",
       " '',\n",
       " '3. Where was the game of Super Bowl 50 played?',\n",
       " \"A) Levi's Stadium in San Francisco, California\",\n",
       " 'B) AT&T Stadium in Arlington, Texas',\n",
       " 'C) MetLife Stadium in East Rutherford, New Jersey',\n",
       " 'D) Raymond James Stadium in Tampa, Florida',\n",
       " '',\n",
       " \"Answer: A) Levi's Stadium in San Francisco, California\",\n",
       " '',\n",
       " '4. Why did the NFL temporarily suspend its tradition of naming each Super Bowl game with Roman numerals for Super Bowl 50?',\n",
       " 'A) Due to a scheduling conflict',\n",
       " 'B) To emphasize the \"golden anniversary\" of the Super Bowl',\n",
       " 'C) To honor a team that had won multiple championships',\n",
       " 'D) To promote a specific sponsor',\n",
       " '',\n",
       " 'Answer: B) To emphasize the \"golden anniversary\" of the Super Bowl',\n",
       " '',\n",
       " '5. What year was Super Bowl 50 played in?',\n",
       " 'A) 2014',\n",
       " 'B) 2015',\n",
       " 'C) 2016',\n",
       " 'D) 2017',\n",
       " '',\n",
       " 'Answer: C) 2016']"
      ]
     },
     "execution_count": 2,
     "metadata": {},
     "output_type": "execute_result"
    }
   ],
   "source": [
    "full_prompt = \"\"\"\n",
    "Generate 5 questions based on the following context. Please give questions only and eliminate all kinds of other text.:\n",
    "Super Bowl 50 was an American football game to determine the champion of the National Football League (NFL) for the 2015 season. \n",
    "The American Football Conference (AFC) champion Denver Broncos defeated the National Football Conference (NFC) champion Carolina Panthers 24–10 to earn their third Super Bowl title. \n",
    "The game was played on February 7, 2016, at Levi's Stadium in the San Francisco Bay Area at Santa Clara, California. \n",
    "As this was the 50th Super Bowl, the league emphasized the \"golden anniversary\" with various gold-themed initiatives, as well as temporarily suspending the tradition of naming each Super Bowl game with Roman numerals (under which the game would have been known as \"Super Bowl L\"), so that the logo could prominently feature the Arabic numerals 50.\n",
    "\"\"\"\n",
    "\n",
    "response = ollama.chat(model=\"llama3.2\", messages=[{\"role\": \"user\", \"content\": full_prompt}])\n",
    "\n",
    "generated_questions = response['message']['content'].split('\\n')\n",
    "\n",
    "generated_questions"
   ]
  }
 ],
 "metadata": {
  "kernelspec": {
   "display_name": "capstone_env",
   "language": "python",
   "name": "python3"
  },
  "language_info": {
   "codemirror_mode": {
    "name": "ipython",
    "version": 3
   },
   "file_extension": ".py",
   "mimetype": "text/x-python",
   "name": "python",
   "nbconvert_exporter": "python",
   "pygments_lexer": "ipython3",
   "version": "3.9.6"
  }
 },
 "nbformat": 4,
 "nbformat_minor": 2
}
